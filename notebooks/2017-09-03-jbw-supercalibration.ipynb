{
 "cells": [
  {
   "cell_type": "markdown",
   "metadata": {},
   "source": [
    "# Install suggestions\n",
    "\n",
    "Here are the commands that I took to install a conda environment that allowed me to run this notebook. \n",
    "\n",
    "```bash\n",
    "conda create -n py27 python=2 pandas matplotlib seaborn jupyter notebook\n",
    "source activate py27\n",
    "pip install calicompari\n",
    "pip install barak\n",
    "conda install -c astropy iminuit\n",
    "```\n"
   ]
  },
  {
   "cell_type": "code",
   "execution_count": 10,
   "metadata": {
    "collapsed": true
   },
   "outputs": [],
   "source": [
    "from __future__ import absolute_import, division, print_function\n",
    "\n",
    "%matplotlib inline\n",
    "import matplotlib.pyplot as plt\n",
    "import numpy as np\n",
    "import pandas as pd\n",
    "\n",
    "import calicompari \n",
    "import datetime\n",
    "import dateutil\n",
    "from glob import glob\n",
    "import warnings\n",
    "warnings.filterwarnings('ignore')"
   ]
  },
  {
   "cell_type": "markdown",
   "metadata": {},
   "source": [
    "# Note\n",
    "\n",
    "You will have to untar the files in the data directory for this to work"
   ]
  },
  {
   "cell_type": "code",
   "execution_count": 2,
   "metadata": {},
   "outputs": [
    {
     "name": "stdout",
     "output_type": "stream",
     "text": [
      "../HIRES/data/cleaned_500_2005-06-16-Flux-1079_1-HD146233-1_up_001.gz\n",
      "../HIRES/data/cleaned_500_2005-06-16-Flux-1079_1-HD146233-2_up_002.gz\n",
      "../HIRES/data/cleaned_500_2005-06-16-Flux-1079_2-HD146233-1_up_003.gz\n",
      "../HIRES/data/cleaned_500_2005-06-16-Flux-1079_2-HD146233-2_up_004.gz\n",
      "../HIRES/data/cleaned_500_2005-06-17-Flux-1176_1-HD159222-1_up_001.gz\n",
      "../HIRES/data/cleaned_500_2005-06-17-Flux-1176_1-HD159222-2_up_002.gz\n",
      "../HIRES/data/cleaned_500_2005-07-04-Flux-079_1-HD159222-1_up_001.gz\n",
      "../HIRES/data/cleaned_500_2005-07-04-Flux-080_1-HD159222-1_up_004.gz\n",
      "../HIRES/data/cleaned_500_2005-07-06-Flux-205_1-HD146233-1_up_001.gz\n",
      "../HIRES/data/cleaned_500_2005-07-06-Flux-205_1-HD146233-2_up_002.gz\n",
      "../HIRES/data/cleaned_500_2005-07-06-Flux-205_2-HD146233-2_up_006.gz\n",
      "../HIRES/data/cleaned_500_2005-07-06-Flux-205_3-HD146233-2_up_010.gz\n",
      "../HIRES/data/cleaned_500_2005-10-22-Flux-1617_1-HD187123-1_up_001.gz\n",
      "../HIRES/data/cleaned_500_2005-10-22-Flux-1617_2-HD187123-1_up_003.gz\n",
      "../HIRES/data/cleaned_500_2006-12-06-Flux-2045_1-HD195034-2_up_002.gz\n",
      "../HIRES/data/cleaned_500_2006-12-06-Flux-2045_2-HD195034-2_up_004.gz\n",
      "../HIRES/data/cleaned_500_2006-12-06-Flux-2045_3-HD195034-2_up_006.gz\n",
      "../HIRES/data/cleaned_500_2007-07-13-Flux-185_1-HD146233-3_up_003.gz\n",
      "../HIRES/data/cleaned_500_2007-07-13-Flux-185_2-HD146233-3_up_007.gz\n",
      "../HIRES/data/cleaned_500_2007-07-13-Flux-185_3-HD146233-3_up_011.gz\n",
      "../HIRES/data/cleaned_500_2009-08-26-Flux-049_1-HD146233-1_up_001.gz\n",
      "../HIRES/data/cleaned_500_2009-08-26-Flux-049_2-HD146233-1_up_006.gz\n",
      "../HIRES/data/cleaned_500_2009-08-26-Flux-049_3-HD146233-1_up_011.gz\n",
      "../UVES/data/cleaned_500_2003-09-05-fxb_hdu146233_sci_346_01_b_up_001.gz\n",
      "../UVES/data/cleaned_500_2003-09-05-fxb_hdu146233_sci_437_01_b_up_002.gz\n",
      "../UVES/data/cleaned_500_2003-09-05-fxb_hdu146233_sci_437_02_b_up_003.gz\n",
      "../UVES/data/cleaned_500_2003-09-05-fxb_hdu146233_sci_580_02_u_up_007.gz\n",
      "../UVES/data/cleaned_500_2003-09-05-fxb_hdu146233_sci_580_04_l_up_010.gz\n",
      "../UVES/data/cleaned_500_2003-09-05-fxb_hdu146233_sci_580_04_u_up_011.gz\n",
      "../UVES/data/cleaned_500_2003-09-05-fxb_hdu146233_sci_580_05_l_up_012.gz\n",
      "../UVES/data/cleaned_500_2003-09-05-fxb_hdu146233_sci_580_05_u_up_013.gz\n",
      "../UVES/data/cleaned_500_2004-11-20-fxb_vb64_sci_600_01_l_up_001.gz\n",
      "../UVES/data/cleaned_500_2004-11-20-fxb_vb64_sci_600_01_u_up_002.gz\n",
      "../UVES/data/cleaned_500_2005-03-24-fxb_hd76151_sci_580_01_l_up_010.gz\n",
      "../UVES/data/cleaned_500_2005-03-24-fxb_hd76151_sci_580_01_u_up_011.gz\n",
      "../UVES/data/cleaned_500_2006-05-26-fxb_hd76151_sci_390_01_b_up_001.gz\n",
      "../UVES/data/cleaned_500_2006-05-26-fxb_hd76151_sci_390_03_b_up_003.gz\n",
      "../UVES/data/cleaned_500_2006-05-26-fxb_hd76151_sci_390_04_b_up_004.gz\n",
      "../UVES/data/cleaned_500_2006-05-26-fxb_hd76151_sci_390_05_b_up_005.gz\n",
      "../UVES/data/cleaned_500_2006-05-26-fxb_hd76151_sci_760_02_l_up_014.gz\n",
      "../UVES/data/cleaned_500_2008-01-11-fxb_hd76151_sci_390_06_b_up_006.gz\n",
      "../UVES/data/cleaned_500_2008-01-11-fxb_hd76151_sci_437_01_b_up_007.gz\n",
      "../UVES/data/cleaned_500_2008-01-11-fxb_hd76151_sci_564_01_l_up_008.gz\n",
      "../UVES/data/cleaned_500_2008-01-11-fxb_hd76151_sci_564_01_u_up_009.gz\n",
      "../UVES/data/cleaned_500_2008-01-11-fxb_hd76151_sci_860_01_l_up_016.gz\n",
      "../UVES/data/cleaned_500_2008-01-11-fxb_hyavb64_sci_390_01_b_up_001.gz\n",
      "../UVES/data/cleaned_500_2008-01-11-fxb_hyavb64_sci_390_02_b_up_002.gz\n",
      "../UVES/data/cleaned_500_2008-01-11-fxb_hyavb64_sci_437_01_b_up_003.gz\n",
      "../UVES/data/cleaned_500_2008-01-11-fxb_hyavb64_sci_564_01_l_up_005.gz\n",
      "../UVES/data/cleaned_500_2008-01-11-fxb_hyavb64_sci_564_01_u_up_006.gz\n",
      "../UVES/data/cleaned_500_2008-01-11-fxb_hyavb64_sci_564_02_l_up_007.gz\n",
      "../UVES/data/cleaned_500_2008-01-11-fxb_hyavb64_sci_564_02_u_up_008.gz\n",
      "../UVES/data/cleaned_500_2010-08-27-fxb_hip1803_sci_390_01_b_up_001.gz\n",
      "../UVES/data/cleaned_500_2010-08-27-fxb_hip1803_sci_390_02_b_up_002.gz\n",
      "../UVES/data/cleaned_500_2010-08-27-fxb_hip1803_sci_390_03_b_up_003.gz\n",
      "../UVES/data/cleaned_500_2010-08-27-fxb_hip1803_sci_760_01_l_up_004.gz\n",
      "../UVES/data/cleaned_500_2010-08-27-fxb_hip1803_sci_760_01_u_up_005.gz\n",
      "../UVES/data/cleaned_500_2010-08-27-fxb_hip1803_sci_760_02_l_up_006.gz\n",
      "../UVES/data/cleaned_500_2010-08-27-fxb_hip1803_sci_760_03_l_up_008.gz\n",
      "../UVES/data/cleaned_500_2010-08-27-fxb_hip1803_sci_760_03_u_up_009.gz\n",
      "../UVES/data/cleaned_500_2010-08-28-fxb_hip20741_sci_390_01_b_up_001.gz\n",
      "../UVES/data/cleaned_500_2010-08-28-fxb_hip20741_sci_390_02_b_up_002.gz\n",
      "../UVES/data/cleaned_500_2010-08-28-fxb_hip20741_sci_390_03_b_up_003.gz\n",
      "../UVES/data/cleaned_500_2010-08-28-fxb_hip20741_sci_760_01_l_up_004.gz\n",
      "../UVES/data/cleaned_500_2010-08-28-fxb_hip20741_sci_760_02_l_up_006.gz\n",
      "../UVES/data/cleaned_500_2010-08-28-fxb_hip20741_sci_760_02_u_up_007.gz\n",
      "../UVES/data/cleaned_500_2010-08-28-fxb_hip20741_sci_760_03_l_up_008.gz\n",
      "../UVES/data/cleaned_500_2011-05-27-fxb_hdm146233_sci_437_01_b_up_003.gz\n",
      "../UVES/data/cleaned_500_2011-05-27-fxb_hdm146233_sci_437_02_b_up_004.gz\n",
      "../UVES/data/cleaned_500_2011-05-27-fxb_hdm146233_sci_860_02_l_up_009.gz\n",
      "../UVES/data/cleaned_500_2011-05-28-fxb_hdm146233_sci_346_01_b_up_001.gz\n",
      "../UVES/data/cleaned_500_2011-05-28-fxb_hdm146233_sci_346_02_b_up_002.gz\n",
      "../UVES/data/cleaned_500_2011-05-28-fxb_hdm146233_sci_580_05_l_up_005.gz\n",
      "../UVES/data/cleaned_500_2011-05-28-fxb_hdm146233_sci_580_05_u_up_006.gz\n",
      "../UVES/data/cleaned_500_2011-11-24-fxb_51peg_sci_580_01_l_up_001.gz\n",
      "../UVES/data/cleaned_500_2012-04-15-fxb_hd126525_sci_580_01_l_up_001.gz\n",
      "../UVES/data/cleaned_500_2012-05-22-fxb_hd146233_sci_580_01_l_up_001.gz\n",
      "../UVES/data/cleaned_500_2012-05-22-fxb_hd146233_sci_860_01_l_up_003.gz\n"
     ]
    }
   ],
   "source": [
    "expos = []\n",
    "for infile in glob(\"../data/cleaned_*\"):\n",
    "    print(infile)\n",
    "    expos.append((infile.split(\"/\")[-1], calicompari.load_exposure(infile)))"
   ]
  },
  {
   "cell_type": "code",
   "execution_count": 3,
   "metadata": {
    "collapsed": true
   },
   "outputs": [],
   "source": [
    "# Loads the exposures into the expos list\n",
    "for infile, expo in expos:\n",
    "    if len(expo['safe_orders']) > 0:\n",
    "        for order in expo['safe_orders']:\n",
    "            if order in expo['Results'][500]:\n",
    "                np.nan_to_num(expo['Results'][500][order]['calerr'])"
   ]
  },
  {
   "cell_type": "code",
   "execution_count": 4,
   "metadata": {},
   "outputs": [],
   "source": [
    "def plot_exposure(filename_expo,\n",
    "                    help=False,\n",
    "                    color=\"blue\",\n",
    "                    linewidth=2.0,\n",
    "                    clobber=False,\n",
    "                    plot=True,\n",
    "                    vbuffer=800.0,\n",
    "                    *args,\n",
    "                    **kwargs):\n",
    "    \"\"\"Plot and return values. Wavelength in Angstroms. cal and calerr in m/s.\n",
    "    \"\"\"\n",
    "    tempx = []\n",
    "    tempy = []\n",
    "    maskwav = []\n",
    "    maskcal = []\n",
    "    maskcalerr = []\n",
    "    infile, expo = filename_expo\n",
    "    upper_error_bound = expo[\"hand_tweak\"][\"upper_error_bound\"]\n",
    "    upper_wavelength_cutoff = expo[\"hand_tweak\"][\"upper_wavelength_cutoff\"]\n",
    "    badorders = expo[\"hand_tweak\"][\"badorders\"]\n",
    "    orderbegin = expo[\"hand_tweak\"][\"orderbegin\"]\n",
    "    orderend = expo[\"hand_tweak\"][\"orderend\"]\n",
    "    offset = expo[\"hand_tweak\"][\"offset\"]\n",
    "    minimum_number_of_chunks = expo[\"hand_tweak\"][\"minimum_number_of_chunks\"]\n",
    "\n",
    "    for order in [x for x in expo['safe_orders'] if x not in badorders]:\n",
    "        if order in expo['Results'][500]:\n",
    "            mask = ((expo['Results'][500][order]['calerr'] < upper_error_bound)\n",
    "                    & (expo['Results'][500][order]['avwav'] < upper_wavelength_cutoff))\n",
    "            if np.sum(mask) > minimum_number_of_chunks:\n",
    "                if plot==True:\n",
    "                    plt.errorbar(expo['Results'][500][order]['avwav'][mask][orderbegin:orderend],\n",
    "                         expo['Results'][500][order]['cal'][mask][orderbegin:orderend] + offset,\n",
    "                         expo['Results'][500][order]['calerr'][mask][orderbegin:orderend],\n",
    "                                 color=color, linewidth=linewidth)\n",
    "                tempx.append(np.average(expo['Results'][500][order]['avwav'][mask][orderbegin:orderend]))\n",
    "                tempy.append(np.average(expo['Results'][500][order]['cal'][mask][orderbegin:orderend] + offset,\n",
    "                    weights=1.0/(expo['Results'][500][order]['calerr'][mask][orderbegin:orderend])**2))\n",
    "                maskwav.append(expo['Results'][500][order]['avwav'][mask][orderbegin:orderend])\n",
    "                maskcal.append(expo['Results'][500][order]['cal'][mask][orderbegin:orderend])\n",
    "                maskcalerr.append(expo['Results'][500][order]['calerr'][mask][orderbegin:orderend])\n",
    "    print(\"Filename: \", infile)\n",
    "    print(\"Current setup: \")\n",
    "    print(\" Discard data points with error larger than: \", upper_error_bound)\n",
    "    print(\" Exclude wavelenths greater than: \", upper_wavelength_cutoff)\n",
    "    print(\" Chunks each order between indices: \", orderbegin, orderend)\n",
    "    print(\" Removed orders: \", [order for order in badorders])\n",
    "    print(\" Offset: \", offset)\n",
    "    print(\" Min # chunks required / order: \", minimum_number_of_chunks)\n",
    "    return maskwav, maskcal, maskcalerr\n"
   ]
  },
  {
   "cell_type": "code",
   "execution_count": 5,
   "metadata": {},
   "outputs": [
    {
     "name": "stdout",
     "output_type": "stream",
     "text": [
      "Filename:  cleaned_500_2005-06-16-Flux-1079_1-HD146233-1_up_001.gz\n",
      "Current setup: \n",
      " Discard data points with error larger than:  25.0\n",
      " Exclude wavelenths greater than:  9000.0\n",
      " Chunks each order between indices:  3 -3\n",
      " Removed orders:  [0]\n",
      " Offset:  0.0\n",
      " Min # chunks required / order:  6\n"
     ]
    }
   ],
   "source": [
    "# If you just want the calibration w/o plotting set plot=False like so:\n",
    "wav, cal, err = plot_exposure(expos[0], plot=False)"
   ]
  },
  {
   "cell_type": "markdown",
   "metadata": {},
   "source": [
    "# Note\n",
    "\n",
    "Remember that the value of the absolute offset isn't important because solar twins can be move toward or away from us and we have not corrected for that."
   ]
  },
  {
   "cell_type": "code",
   "execution_count": 6,
   "metadata": {},
   "outputs": [
    {
     "name": "stdout",
     "output_type": "stream",
     "text": [
      "Filename:  cleaned_500_2005-06-16-Flux-1079_1-HD146233-1_up_001.gz\n",
      "Current setup: \n",
      " Discard data points with error larger than:  25.0\n",
      " Exclude wavelenths greater than:  9000.0\n",
      " Chunks each order between indices:  3 -3\n",
      " Removed orders:  [0]\n",
      " Offset:  0.0\n",
      " Min # chunks required / order:  6\n"
     ]
    },
    {
     "data": {
      "image/png": "[encoded data removed]",
      "text/plain": [
       "<matplotlib.figure.Figure at 0x10e024d50>"
      ]
     },
     "metadata": {},
     "output_type": "display_data"
    }
   ],
   "source": [
    "wav, cal, err = plot_exposure(expos[0])"
   ]
  },
  {
   "cell_type": "code",
   "execution_count": 7,
   "metadata": {},
   "outputs": [
    {
     "data": {
      "text/plain": [
       "[array([ 3985.89412301,  3989.23478966,  3992.57521763,  3995.92283967,\n",
       "         3999.25833541,  4002.60690038,  4005.94923946,  4009.29256262,\n",
       "         4019.31870964,  4022.66414286,  4026.00890061,  4029.35057566]),\n",
       " array([ 4031.15579517,  4034.54550672,  4037.91672353,  4041.30450104,\n",
       "         4044.68012771,  4048.06016046,  4051.44284689,  4054.8264173 ,\n",
       "         4058.20909995,  4061.58903192,  4064.97276909,  4068.34965462,\n",
       "         4071.73447475]),\n",
       " array([ 4080.89801567,  4084.31953848,  4087.73018744,  4091.15589373,\n",
       "         4097.99132821,  4101.4158514 ,  4104.83064135,  4108.25157358,\n",
       "         4111.67647257,  4115.09452234,  4118.52051373,  4121.93494434]),\n",
       " array([ 4124.86576632,  4128.31986506,  4131.7831072 ,  4135.23542525,\n",
       "         4138.70308178,  4142.15678587,  4145.62238657,  4149.07989603,\n",
       "         4152.54551489,  4155.99942908,  4159.4661657 ]),\n",
       " array([ 4173.3690239 ,  4176.87562765,  4180.37243084,  4183.87683471,\n",
       "         4187.36861887,  4190.87420424,  4194.37329685,  4197.87350573,\n",
       "         4201.37299276,  4208.37068869,  4211.87347904]),\n",
       " array([ 4223.02653655,  4226.56777301,  4230.10873837,  4233.65731294,\n",
       "         4240.74256102,  4244.2854854 ,  4247.82032555,  4251.37283697,\n",
       "         4254.90437453,  4258.44936095,  4265.53358009]),\n",
       " array([ 4277.47779101,  4281.06341352,  4288.2277826 ,  4291.81290573,\n",
       "         4295.39148099,  4309.73482998]),\n",
       " array([ 4329.60938255,  4333.24090764,  4336.87073832,  4340.49727894,\n",
       "         4344.12850063,  4347.75306185,  4351.38821135,  4355.01303847,\n",
       "         4358.64438339,  4362.27070977,  4365.89905197,  4369.52696545]),\n",
       " array([ 4386.71667325,  4390.383583  ,  4394.05707456,  4397.73531105,\n",
       "         4401.40682085,  4405.07953485,  4408.75145522,  4416.09412752,\n",
       "         4419.76972709,  4423.44485684,  4427.11694385]),\n",
       " array([ 4437.79314784,  4441.52004054,  4445.23513965,  4452.68339219,\n",
       "         4456.39326907,  4460.12380428,  4463.83407092,  4467.56074766,\n",
       "         4471.27286622,  4478.7106343 ,  4482.43107511]),\n",
       " array([ 4493.95553112,  4497.71151801,  4501.4859757 ,  4505.2467518 ,\n",
       "         4509.01246366,  4512.78124869,  4516.55122699,  4524.08701318,\n",
       "         4527.85812838,  4531.61241949,  4535.38539263,  4539.14588541]),\n",
       " array([ 4551.53635645,  4555.36324564,  4559.16767036,  4562.98912726,\n",
       "         4566.79521098,  4570.61462731,  4574.42530325,  4578.2452515 ,\n",
       "         4582.06232922,  4589.69849666,  4593.50309165]),\n",
       " array([ 4610.62403235,  4614.49241385,  4622.2220405 ,  4626.07991665,\n",
       "         4629.95128059,  4633.81373025,  4637.68549978,  4641.5443715 ,\n",
       "         4645.40810964,  4649.27412318,  4653.13025352]),\n",
       " array([ 4675.18844978,  4686.93516386,  4690.84932187,  4694.76486771,\n",
       "         4698.67974411,  4706.50857941,  4714.33675009,  4718.25244681]),\n",
       " array([ 4737.49143004,  4741.46594169,  4745.42616946,  4749.40219697,\n",
       "         4753.37086187,  4757.33049146,  4761.31007222,  4765.26611202,\n",
       "         4769.23743715,  4773.20108304,  4777.17447784,  4781.13501544]),\n",
       " array([ 4797.480101  ,  4801.50132979,  4805.52065797,  4809.53638501,\n",
       "         4813.5574703 ,  4817.57136836,  4821.59734722,  4825.61216775,\n",
       "         4829.64490972,  4837.69178338,  4841.71106815,  4845.72729791]),\n",
       " array([ 4863.1640695 ,  4867.24266548,  4871.31941209,  4875.39255287,\n",
       "         4879.47112353,  4883.54234256,  4887.62570425,  4891.69760798,\n",
       "         4895.77707904,  4899.85110237,  4903.92764164]),\n",
       " array([ 4926.55847716,  4930.68487795,  4938.94665785,  4943.07845171,\n",
       "         4947.21571462,  4951.345531  ,  4955.48771881,  4959.61836617,\n",
       "         4963.75678181,  4967.87923396,  4972.01489747,  4976.13996064,\n",
       "         4980.27239263]),\n",
       " array([ 4995.91989676,  5000.11787261,  5004.30427009,  5008.50014303,\n",
       "         5012.6922384 ,  5016.87875586,  5021.06891421,  5025.26058308,\n",
       "         5029.45161508,  5033.63972528,  5037.8331441 ,  5042.0185323 ,\n",
       "         5046.21440375,  5050.40709203]),\n",
       " array([ 5075.77256298,  5080.01913285,  5084.27349112,  5088.52219765,\n",
       "         5092.77456067,  5097.0172589 ,  5101.27042574,  5105.52046372,\n",
       "         5114.02314842,  5118.28098139,  5122.52502978]),\n",
       " array([ 5140.67814751,  5145.00207657,  5149.30230245,  5153.6240258 ,\n",
       "         5157.93025563,  5162.24239748,  5166.55826013,  5170.86434689,\n",
       "         5175.18110967,  5183.80293482,  5188.12489554,  5192.4250088 ,\n",
       "         5196.74367837]),\n",
       " array([ 5225.00668608,  5229.38205756,  5233.75351203,  5238.1309146 ,\n",
       "         5242.51207644,  5246.88331539,  5251.26539472,  5255.63304282,\n",
       "         5268.7698466 ])]"
      ]
     },
     "execution_count": 7,
     "metadata": {},
     "output_type": "execute_result"
    }
   ],
   "source": [
    "wav"
   ]
  },
  {
   "cell_type": "code",
   "execution_count": 8,
   "metadata": {},
   "outputs": [
    {
     "data": {
      "text/plain": [
       "[array([-10861.62424952, -10866.59829818, -10882.90919676, -10914.29015001,\n",
       "        -10944.57615832, -10965.55604727, -10936.46314917, -10921.91013531,\n",
       "        -10928.57858112, -10921.30689593, -10931.23581697, -10959.10184928]),\n",
       " array([-10894.32190126, -10830.4019688 , -10766.33761404, -10862.08250327,\n",
       "        -10890.32599357, -10915.10476543, -10954.56098014, -10963.71072371,\n",
       "        -10962.58748559, -10956.05568073, -10914.26709678, -10901.40314053,\n",
       "        -10905.35579054]),\n",
       " array([-10807.25604089, -10831.12441656, -10880.32822136, -10948.28980537,\n",
       "        -10976.07389646, -11005.8610629 , -10949.92599294, -10944.20533661,\n",
       "        -10938.80877369, -10949.05191256, -10953.92887794, -10928.09483882]),\n",
       " array([-10942.37372524, -10894.2390718 , -10842.67619645, -10885.74593257,\n",
       "        -10967.9815897 , -10998.10352096, -10980.08640085, -11001.09460681,\n",
       "        -10994.73687577, -10958.11894027, -10911.63128737]),\n",
       " array([-10924.41083777, -10861.69581499, -10849.67187082, -10891.20913098,\n",
       "        -10947.60753493, -10975.45839003, -10953.19429538, -10921.45903153,\n",
       "        -10933.64677535, -10924.88008923, -10899.36408529]),\n",
       " array([-10797.05256288, -10786.43133913, -10796.41628808, -10850.40097469,\n",
       "        -10975.67030582, -10987.66033994, -10930.85712704, -10896.76535614,\n",
       "        -10922.13223792, -10907.23151819, -10939.8547792 ]),\n",
       " array([-10799.39209394, -10875.81948198, -10945.19455486, -10987.67005457,\n",
       "        -10977.30562031, -11014.40534681]),\n",
       " array([-10774.73195884, -10784.63923544, -10920.13843039, -10931.17910909,\n",
       "        -11000.1290147 , -10994.42632208, -10999.1163755 , -10995.59832442,\n",
       "        -10933.30121784, -10934.97267456, -10930.54940647, -10869.7902701 ]),\n",
       " array([-10777.08908439, -10815.02740121, -10929.06987799, -10975.33195278,\n",
       "        -10963.14508618, -10947.45568537, -10938.44230759, -10907.31723435,\n",
       "        -10920.99189671, -10930.45706846, -10896.13090948]),\n",
       " array([-10819.97359722, -10821.75320819, -10880.83466309, -10995.94953179,\n",
       "        -10992.62016466, -10992.61420379, -10972.59728705, -10942.84745361,\n",
       "        -10938.94740133, -10906.09535931, -10875.68093381]),\n",
       " array([-10899.36105042, -10869.64249529, -10942.08499162, -10965.47510473,\n",
       "        -11009.17854952, -11007.57754032, -10985.67641485, -10939.83791611,\n",
       "        -10932.01148387, -10932.24426786, -10935.16273289, -10892.47047184]),\n",
       " array([-10871.87374208, -10831.285105  , -10850.5383403 , -10943.36039061,\n",
       "        -10972.01405224, -10982.63650504, -10976.71147482, -10953.42389655,\n",
       "        -10902.56891969, -10905.35139581, -10908.07378925]),\n",
       " array([-10911.65409854, -10872.16915254, -10963.94588164, -11008.67577238,\n",
       "        -10999.70451204, -10987.99219755, -10957.91012461, -10946.13950795,\n",
       "        -10932.19278271, -10918.7411897 , -10922.79502115]),\n",
       " array([-10923.38604593, -11037.0348266 , -11056.5755776 , -11054.03814364,\n",
       "        -11027.45856816, -10979.60993467, -10929.24870529, -10909.67266008]),\n",
       " array([-10847.08431686, -10857.37708162, -10922.103421  , -10964.81985802,\n",
       "        -11008.01355813, -11020.61320863, -10996.17179237, -10954.6943832 ,\n",
       "        -10925.59721281, -10915.04297038, -10892.99609679, -10865.08715824]),\n",
       " array([-10919.5231531 , -10883.36395908, -10893.08069328, -10943.98464487,\n",
       "        -10985.33631393, -10967.30245956, -10953.23773093, -10954.14337964,\n",
       "        -10953.56568421, -10926.25414313, -10924.30493262, -10919.82986715]),\n",
       " array([-10890.74901525, -10888.17625732, -10919.40976007, -10961.08184634,\n",
       "        -10991.36322617, -10999.99076156, -11009.92633915, -11002.76640272,\n",
       "        -10978.47443648, -10932.4218657 , -10892.22162448]),\n",
       " array([-11007.47268645, -10940.55713381, -10932.18963225, -10946.66943792,\n",
       "        -11044.66162101, -11009.40826861, -10999.73132071, -10992.48788776,\n",
       "        -10946.08387143, -10948.55698694, -10939.54058007, -10925.47622015,\n",
       "        -10868.88108658]),\n",
       " array([-10975.94406794, -10842.54699192, -10839.65833181, -10858.07999745,\n",
       "        -10950.37712266, -10970.39607968, -10958.14330142, -10950.2454615 ,\n",
       "        -10941.82196322, -10920.27718367, -10893.77534237, -10893.99824935,\n",
       "        -10889.7183408 , -10821.28296747]),\n",
       " array([-10822.99978143, -10887.18197827, -10920.10067902, -10988.9021951 ,\n",
       "        -11000.61995204, -11012.7522528 , -11013.85056388, -10981.83061378,\n",
       "        -10916.5094594 , -10892.62464449, -10835.60858371]),\n",
       " array([-11030.23290945, -10972.5920353 , -10913.67498856, -10938.95521135,\n",
       "        -10990.56457838, -11009.36356054, -10991.41636245, -10993.52617396,\n",
       "        -10985.63174616, -10980.85713286, -10948.54169848, -10920.27639452,\n",
       "        -10901.41707141]),\n",
       " array([-10939.80878743, -10947.28182884, -11017.55652904, -11035.22488272,\n",
       "        -10990.17455159, -10978.14190374, -10975.32408033, -10948.60044617,\n",
       "        -10849.74983416])]"
      ]
     },
     "execution_count": 8,
     "metadata": {},
     "output_type": "execute_result"
    }
   ],
   "source": [
    "cal"
   ]
  },
  {
   "cell_type": "code",
   "execution_count": 9,
   "metadata": {},
   "outputs": [
    {
     "data": {
      "text/plain": [
       "[array([ 6.93532147,  6.64308893,  6.37381009,  5.07620785,  4.65567196,\n",
       "         5.17224509,  4.66405305,  4.29298563,  3.07957218,  5.02457993,\n",
       "         5.04227422,  5.61982781]),\n",
       " array([ 5.46775098,  5.33709914,  8.35729214,  6.53588965,  5.84926431,\n",
       "         6.16285059,  5.14346078,  4.50638532,  4.35145909,  4.69834539,\n",
       "         4.97731796,  5.00703543,  5.69471337]),\n",
       " array([ 4.69747933,  4.57741843,  5.19635764,  5.19503131,  6.21733293,\n",
       "         4.47716254,  5.68627646,  4.73013544,  4.59519383,  4.888779  ,\n",
       "         5.17245486,  4.7135161 ]),\n",
       " array([ 5.09671794,  5.09124578,  4.88137007,  4.75918878,  5.11591763,\n",
       "         5.54981509,  5.05893519,  5.11310008,  4.62670977,  4.36362805,\n",
       "         4.333793  ]),\n",
       " array([ 4.83958975,  4.36412757,  4.8920596 ,  4.7837974 ,  4.5774194 ,\n",
       "         4.5747166 ,  4.72808804,  3.81972574,  4.61845155,  3.91019088,\n",
       "         4.59561212]),\n",
       " array([ 5.20958312,  5.23470301,  5.53799841,  4.66025072,  4.1308543 ,\n",
       "         4.41830487,  4.12813448,  5.10393658,  4.67747831,  4.17954484,\n",
       "         4.74740141]),\n",
       " array([ 5.41157202,  4.39248053,  3.29962058,  3.1622097 ,  3.674886  ,\n",
       "         4.02357122]),\n",
       " array([ 5.81441246,  8.08619183,  5.83028064,  5.02153247,  4.89012952,\n",
       "         4.66905829,  4.29378969,  4.76914686,  5.18082718,  5.58718969,\n",
       "         5.9013058 ,  5.44922388]),\n",
       " array([ 4.92625411,  4.24139175,  4.00099901,  4.4598256 ,  4.5297623 ,\n",
       "         4.77032032,  4.66127801,  4.5525973 ,  4.9213669 ,  5.6428506 ,\n",
       "         5.1783039 ]),\n",
       " array([ 4.51574427,  4.22379653,  3.86575466,  3.62523717,  3.12512578,\n",
       "         2.8938756 ,  3.09640375,  3.75657572,  3.81924015,  6.13992848,\n",
       "         4.85300587]),\n",
       " array([ 4.45793782,  5.42929579,  5.25949158,  5.62727455,  7.71632731,\n",
       "         5.52467536,  4.46142003,  4.73030373,  3.8947606 ,  3.52607484,\n",
       "         3.50665416,  4.52070501]),\n",
       " array([ 4.7116797 ,  4.20280362,  4.30508923,  5.77271815,  5.79587627,\n",
       "         4.60551387,  4.5302353 ,  4.91656221,  4.43667858,  4.89446519,\n",
       "         4.73800278]),\n",
       " array([ 6.92736569,  5.35765976,  5.04589865,  5.38090075,  4.73946149,\n",
       "         4.86346525,  4.42545985,  4.98726572,  5.36406359,  4.69874152,\n",
       "         4.81521115]),\n",
       " array([ 6.92798326,  5.18011304,  5.65101643,  6.6357544 ,  6.69822583,\n",
       "         4.53913402,  5.90986792,  8.02358779]),\n",
       " array([ 4.98002075,  5.21779401,  5.89473829,  6.3985021 ,  5.01848582,\n",
       "         3.95634017,  4.04131942,  3.9850854 ,  4.43396396,  5.97671786,\n",
       "         7.26487661,  7.077689  ]),\n",
       " array([ 7.40200996,  5.98383831,  5.38163726,  5.4150546 ,  6.80578847,\n",
       "         9.37189279,  6.13808101,  5.62968867,  5.52950774,  7.45721968,\n",
       "         5.38178161,  5.85684705]),\n",
       " array([ 7.9824426 ,  6.82765297,  4.5354526 ,  4.20313885,  4.81519439,\n",
       "         4.37084585,  3.8392973 ,  4.06288332,  6.05335135,  8.12082692,\n",
       "         5.39232516]),\n",
       " array([ 5.17064089,  4.03855858,  3.7067408 ,  4.28676247,  5.89872465,\n",
       "         4.44781863,  5.57959463,  7.06232986,  6.12563032,  3.83652508,\n",
       "         5.03330933,  5.73855874,  4.8552075 ]),\n",
       " array([ 4.88211209,  5.37763954,  3.91133285,  4.94160133,  3.97554372,\n",
       "         3.28391707,  3.41493119,  3.84456122,  4.28338791,  4.47436742,\n",
       "         3.97956833,  3.42109971,  4.42696079,  5.25101043]),\n",
       " array([ 5.37440519,  3.49845037,  3.46519612,  5.55454749,  6.37602367,\n",
       "         5.03427151,  4.39878357,  4.05927005,  3.89084187,  8.67977122,\n",
       "         6.197252  ]),\n",
       " array([ 4.1621205 ,  4.14296826,  4.12710665,  3.96532538,  5.15605276,\n",
       "         6.5551352 ,  3.9636525 ,  3.66582819,  5.14201345,  6.67460369,\n",
       "         5.41212258,  3.8644214 ,  3.3967361 ]),\n",
       " array([ 4.44027893,  3.8957404 ,  4.33490548,  5.13909602,  5.66135248,\n",
       "         4.53558521,  3.74727661,  4.21296458,  3.20100289])]"
      ]
     },
     "execution_count": 9,
     "metadata": {},
     "output_type": "execute_result"
    }
   ],
   "source": [
    "err"
   ]
  },
  {
   "cell_type": "markdown",
   "metadata": {},
   "source": [
    "# Final note\n",
    "\n",
    "There's quite a bit more information in these cleaned files. Check out the calicompari source code (the hand_tweak function in particular). https://github.com/jbwhit/CaliCompari\n",
    "\n"
   ]
  },
  {
   "cell_type": "code",
   "execution_count": null,
   "metadata": {
    "collapsed": true
   },
   "outputs": [],
   "source": []
  }
 ],
 "metadata": {
  "kernelspec": {
   "display_name": "Python 2",
   "language": "python",
   "name": "python2"
  },
  "language_info": {
   "codemirror_mode": {
    "name": "ipython",
    "version": 2
   },
   "file_extension": ".py",
   "mimetype": "text/x-python",
   "name": "python",
   "nbconvert_exporter": "python",
   "pygments_lexer": "ipython2",
   "version": "2.7.13"
  }
 },
 "nbformat": 4,
 "nbformat_minor": 2
}
